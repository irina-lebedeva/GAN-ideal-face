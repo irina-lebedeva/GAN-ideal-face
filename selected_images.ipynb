{
 "cells": [
  {
   "cell_type": "code",
   "execution_count": 28,
   "id": "eea0fe2e",
   "metadata": {},
   "outputs": [],
   "source": [
    "import pandas as pd\n",
    "import os\n",
    "\n",
    "def selected_images(file = 'ME-beautydatabase/scores/date_scores_all.xlsx', \n",
    "                  train_number = 100, m = 5):\n",
    "\n",
    "# ramdomly select n training images for each rater and get m best rated images\n",
    "\n",
    "            \n",
    "    df = pd.read_excel(file)\n",
    "    #print(df.columns)\n",
    "    images = df['path']\n",
    "    df = df.drop(['path'], axis=1)\n",
    "    \n",
    "    df_best =  pd.DataFrame(columns=['image', 'rater'])\n",
    "    \n",
    "    for column in df.columns:\n",
    "           \n",
    "           scores = df[column]    \n",
    "           result = pd.concat([images, scores], axis=1).dropna() \n",
    "           if train_number > len(result): continue\n",
    "           m_top = result.sample(train_number).sort_values(column,ascending = False).head(m)\n",
    "           m_top[column] = str(column)\n",
    "           m_top = m_top.rename(columns={'path': 'image', column: 'rater'})\n",
    "           df_best = df_best.append(m_top, ignore_index=True) \n",
    "           \n",
    "    df_best.to_csv('ME-beautydatabase/personal_best_images.csv', index=False)\n",
    "           \n",
    "           \n",
    "selected_images()    "
   ]
  }
 ],
 "metadata": {
  "kernelspec": {
   "display_name": "Environment (conda_tensorflow_p37)",
   "language": "python",
   "name": "conda_tensorflow_p37"
  },
  "language_info": {
   "codemirror_mode": {
    "name": "ipython",
    "version": 3
   },
   "file_extension": ".py",
   "mimetype": "text/x-python",
   "name": "python",
   "nbconvert_exporter": "python",
   "pygments_lexer": "ipython3",
   "version": "3.7.10"
  }
 },
 "nbformat": 4,
 "nbformat_minor": 5
}
